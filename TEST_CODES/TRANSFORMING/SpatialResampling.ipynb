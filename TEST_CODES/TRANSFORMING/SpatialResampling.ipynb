{
 "cells": [
  {
   "cell_type": "markdown",
   "id": "fd100459",
   "metadata": {},
   "source": [
    "At change the resolution, I modifie the beam FWHM in ALMA (my data). Due the beam follows a Gaussian distribution, so the new FWHM must be calculated correctly when convolving. I need to convolve the cube with a Gaussian beam that has a size equivalent to the quadratic difference between the two resolutions.\n",
    "\n",
    "$FWHM_{conv} = \\sqrt{FWHM_{target}^2 - FWHM_{current}^2}$\n",
    "\n",
    "where:\n",
    "- $FWHM_{target} = 16\"$\n",
    "- $FWHM_{current} = 14\"$ (our data) ---este no es el fwhm\n",
    "\n",
    "# buscar kernel, ve4r como se hace la convolucion, el minimo que crece es 1.17\n",
    "\n",
    "#### Devoncolution\n",
    "${Beam_{target}}^2 = {Beam_{current}}^2 + {Beam_{convolution}}^2$ \n",
    "\n",
    "De esta ecuación, puedes despejar el haz de convolución (${Beam_{convolution}}$):\n",
    "\n",
    "${Beam_{convolution}}^2 = {Beam_{target}}^2 - {Beam_{current}}^2 $ revisar esto!!!"
   ]
  },
  {
   "cell_type": "code",
   "execution_count": null,
   "id": "2d7c8712",
   "metadata": {},
   "outputs": [
    {
     "name": "stdout",
     "output_type": "stream",
     "text": [
      "15.9921123122052 arcsec 11.6163975211884 arcsec\n",
      "SpectralCube with shape=(729, 128, 120) and unit=Jy / beam:\n",
      " n_x:    120  type_x: RA---SIN  unit_x: deg    range:    84.794668 deg:   85.014927 deg\n",
      " n_y:    128  type_y: DEC--SIN  unit_y: deg    range:   -69.807597 deg:  -69.726457 deg\n",
      " n_s:    729  type_s: VRAD      unit_s: km / s  range:     -129.445 km / s:     598.555 km / s\n"
     ]
    }
   ],
   "source": [
    "##### Resampling the spatial resolution - 14\" to 16\"\n",
    "from astropy.convolution import convolve, Gaussian2DKernel\n",
    "from radio_beam import Beam\n",
    "\n",
    "# Load the cube\n",
    "cube = SpectralCube.read(\"CUBE_RESAMPLED_SPECTRAL.fits\")\n",
    "\n",
    "# Obtener el haz actual (resolución espacial actual)\n",
    "current_beam = cube.beam\n",
    "Bmaj = current_beam.major.to(u.arcsec)\n",
    "Bmin = current_beam.minor.to(u.arcsec)\n",
    "print(Bmaj, Bmin)\n",
    "\n",
    "# Definir la nueva resolución espacial deseada\n",
    "BNEWmaj = 16 * u.arcsec\n",
    "BNEWmin = 16 * u.arcsec\n",
    "\n",
    "\n",
    "# Calcular el haz de convolución necesario\n",
    "convolution_beam = Beam(major=BNEWmaj, minor=BNEWmin, pa=current_beam.pa)  #pa = position angle \n",
    "convolution_kernel = convolution_beam.deconvolve(current_beam) #calcula el haz gaussiano que necesito aplicar (para producir el haz obj)\n",
    "\n",
    "# Convolucionar el cubo para alcanzar la nueva resolución\n",
    "convolved_cube = cube.convolve_to(convolution_beam)\n",
    "\n",
    "print(convolved_cube)"
   ]
  },
  {
   "cell_type": "code",
   "execution_count": null,
   "id": "533fb085",
   "metadata": {},
   "outputs": [],
   "source": [
    "\n",
    "# Definir la nueva resolución espacial deseada\n",
    "BNEWmaj = 16 * u.arcsec\n",
    "BNEWmin = 16 * u.arcsec\n",
    "\n",
    "\n",
    "# Calcular el haz de convolución necesario\n",
    "convolution_beam = Beam(major=BNEWmaj, minor=BNEWmin, pa=current_beam.pa)  #pa = position angle \n",
    "convolution_kernel = convolution_beam.deconvolve(current_beam) #calcula el haz gaussiano que necesito aplicar (para producir el haz obj)\n",
    "\n",
    "# Convolucionar el cubo para alcanzar la nueva resolución\n",
    "convolved_cube = cube.convolve_to(convolution_beam)\n",
    "\n",
    "print(convolved_cube)"
   ]
  },
  {
   "cell_type": "code",
   "execution_count": null,
   "id": "b3c90908",
   "metadata": {},
   "outputs": [],
   "source": [
    "convolved_cube.write(\"CUBE_RESAMPLED_SPATIAL.fits\", overwrite=True)\n",
    "\n",
    "print(\"El cubo ha sido resampleado a una resolución espacial de 16\\\" y guardado como 'CUBE_RESAMPLED_SPATIAL.fits'.\")\n",
    "\n",
    "cube_new = SpectralCube.read(\"CUBE_RESAMPLED_SPATIAL.fits\")\n",
    "\n",
    "# Revisar beam\n",
    "print(f\"Nuevo beam: {cube_new.beam.major.to(u.arcsec):.2f} x {cube_new.beam.minor.to(u.arcsec):.2f} arcsec\")"
   ]
  },
  {
   "cell_type": "code",
   "execution_count": null,
   "id": "bcedc823",
   "metadata": {},
   "outputs": [],
   "source": [
    "sub_cube = sub_cube.with_spectral_unit(u.Angstrom, velocity_convention='optical', rest_value=line_wave * u.Angstrom)\n",
    "#\n",
    "import scipy\n",
    "import scipy.constants       as sc\n",
    "from   scipy                 import constants\n",
    "from   scipy                 import stats # collection of mathematical algorithms and convenience functions built on the NumPy extension of Python\n",
    "from   scipy.optimize        import curve_fit # provides functions for minimizing (or maximizing) objective functions, possibly subject to constraints. It includes solvers for nonlinear problems (with support for both local and global optimization algorithms), linear programing, constrained and nonlinear least-squares, root finding, and curve fitting.\n",
    "from   scipy.optimize        import minimize # functions for minimizing (or maximizing) objective functions, possibly subject to constraints\n",
    "from   scipy.optimize        import fsolve # Find the roots of a function.\n",
    "from   scipy.stats           import gaussian_kde # for density plots\n",
    "\n",
    "# flux density units are not recognized by SpectralCube, so they have to be defined\n",
    "u.add_enabled_units(u.def_unit(['ergs/s/cm^2/A'], represents=u.erg / u.s /u.cm**2 / u.Angstrom)) \n",
    "u.add_enabled_units(u.def_unit(['K (Tmb)'], represents=u.Kelvin))\n",
    "u.add_enabled_units(u.def_unit(['K (Ta*)'], represents=u.Kelvin))\n",
    "\n",
    "\n",
    "###Esto es para Jy/beam a K?"
   ]
  }
 ],
 "metadata": {
  "kernelspec": {
   "display_name": "Python 3",
   "language": "python",
   "name": "python3"
  },
  "language_info": {
   "codemirror_mode": {
    "name": "ipython",
    "version": 3
   },
   "file_extension": ".py",
   "mimetype": "text/x-python",
   "name": "python",
   "nbconvert_exporter": "python",
   "pygments_lexer": "ipython3",
   "version": "3.13.2"
  }
 },
 "nbformat": 4,
 "nbformat_minor": 5
}
