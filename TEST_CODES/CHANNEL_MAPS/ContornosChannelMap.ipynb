{
 "cells": [
  {
   "cell_type": "code",
   "execution_count": null,
   "metadata": {},
   "outputs": [
    {
     "data": {
      "text/plain": [
       "WCS Keywords\n",
       "\n",
       "Number of WCS axes: 3\n",
       "CTYPE : 'RA---TAN' 'DEC--TAN' 'VELOCITY' \n",
       "CRVAL : np.float64(84.9145833333) np.float64(-69.7535833333) np.float64(0.0) \n",
       "CRPIX : np.float64(42.2523150369) np.float64(35.8799385211) np.float64(150.0) \n",
       "CD1_1 CD1_2 CD1_3  : np.float64(-0.00148148147855) np.float64(0.0) np.float64(0.0) \n",
       "CD2_1 CD2_2 CD2_3  : np.float64(0.0) np.float64(0.00148148147855) np.float64(0.0) \n",
       "CD3_1 CD3_2 CD3_3  : np.float64(0.0) np.float64(0.0) np.float64(1.0) \n",
       "NAXIS : 58  59  300\n"
      ]
     },
     "metadata": {},
     "output_type": "display_data"
    }
   ],
   "source": [
    "#Charge the data contourns from channel maps\n",
    "import sys\n",
    "import numpy as np\n",
    "\n",
    "from astropy.io import fits\n",
    "from astropy.wcs import WCS\n",
    "\n",
    "with fits.open('N159_CII_map.fits') as hdul:\n",
    "    #hdul.info()\n",
    "    data = hdul[0].data\n",
    "    header = hdul[0].header\n",
    "    wcs = WCS(header)\n",
    "\n"
   ]
  },
  {
   "cell_type": "code",
   "execution_count": null,
   "metadata": {},
   "outputs": [],
   "source": []
  }
 ],
 "metadata": {
  "language_info": {
   "name": "python"
  }
 },
 "nbformat": 4,
 "nbformat_minor": 2
}
